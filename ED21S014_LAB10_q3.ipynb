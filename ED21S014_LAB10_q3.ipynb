{
  "nbformat": 4,
  "nbformat_minor": 0,
  "metadata": {
    "colab": {
      "name": "ED21S014_LAB10_q3.ipynb",
      "provenance": [],
      "collapsed_sections": []
    },
    "kernelspec": {
      "name": "python3",
      "display_name": "Python 3"
    },
    "language_info": {
      "name": "python"
    }
  },
  "cells": [
    {
      "cell_type": "code",
      "metadata": {
        "colab": {
          "base_uri": "https://localhost:8080/",
          "height": 72
        },
        "id": "SwSLd3kWYDbk",
        "outputId": "7b30d52a-ae4d-4f1d-c92c-8aea7b0485f6"
      },
      "source": [
        "\"\"\"\n",
        "3) (coding) Logistic Regression: Using the data provided (Logistic_regression_ls.csv), \n",
        "find the decision boundary (linear) using Optimization of the sigmoid function. \n",
        "Plot the following\n",
        "\n",
        "(a) binary cross-entropy cost function and its contour plot  \n",
        "(b) squared-error cost function and contour plot \n",
        "(c) data with its decision boundary. \n",
        "\"\"\""
      ],
      "execution_count": 80,
      "outputs": [
        {
          "output_type": "execute_result",
          "data": {
            "application/vnd.google.colaboratory.intrinsic+json": {
              "type": "string"
            },
            "text/plain": [
              "'\\n3) (coding) Logistic Regression: Using the data provided (Logistic_regression_ls.csv), \\nfind the decision boundary (linear) using Optimization of the sigmoid function. \\nPlot the following\\n\\n(a) binary cross-entropy cost function and its contour plot  \\n(b) squared-error cost function and contour plot \\n(c) data with its decision boundary. \\n'"
            ]
          },
          "metadata": {},
          "execution_count": 80
        }
      ]
    },
    {
      "cell_type": "code",
      "metadata": {
        "colab": {
          "resources": {
            "http://localhost:8080/nbextensions/google.colab/files.js": {
              "data": "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",
              "ok": true,
              "headers": [
                [
                  "content-type",
                  "application/javascript"
                ]
              ],
              "status": 200,
              "status_text": "OK"
            }
          },
          "base_uri": "https://localhost:8080/",
          "height": 75
        },
        "id": "D0rBWcExZd9V",
        "outputId": "3d7e3f5d-ad61-4f9e-c620-e11197aec84a"
      },
      "source": [
        "#load .csv file from local drive into google colab \n",
        "from google.colab import files\n",
        "uploaded = files.upload()"
      ],
      "execution_count": 81,
      "outputs": [
        {
          "output_type": "display_data",
          "data": {
            "text/html": [
              "\n",
              "     <input type=\"file\" id=\"files-d0e57fa9-764e-452e-905a-ffdabf7c1fcd\" name=\"files[]\" multiple disabled\n",
              "        style=\"border:none\" />\n",
              "     <output id=\"result-d0e57fa9-764e-452e-905a-ffdabf7c1fcd\">\n",
              "      Upload widget is only available when the cell has been executed in the\n",
              "      current browser session. Please rerun this cell to enable.\n",
              "      </output>\n",
              "      <script src=\"/nbextensions/google.colab/files.js\"></script> "
            ],
            "text/plain": [
              "<IPython.core.display.HTML object>"
            ]
          },
          "metadata": {}
        },
        {
          "output_type": "stream",
          "name": "stdout",
          "text": [
            "Saving Logistic_regression_ls.csv to Logistic_regression_ls (1).csv\n"
          ]
        }
      ]
    },
    {
      "cell_type": "code",
      "metadata": {
        "colab": {
          "base_uri": "https://localhost:8080/"
        },
        "id": "tW7UYX99Zggy",
        "outputId": "d179d030-0c2b-4caf-d132-4d9bd838472c"
      },
      "source": [
        "import pandas as pd\n",
        "import numpy as np\n",
        "import matplotlib.pyplot as plt\n",
        "import math \n",
        "header = ['x1', 'x2', 'label']\n",
        "\t\n",
        "# define name of csv file\n",
        "#filename = \"Logistic_regression_ls.csv\"\n",
        "filename = \"Logistic_regression_ls.csv\"\n",
        "\n",
        "#Read csv file Using Pandas\n",
        "df = pd.read_csv(filename)\n",
        "#print(df)\n",
        "\n",
        "#x_data = [] #list to store x column data from csv file\n",
        "x1_data = []\n",
        "x2_data = []\n",
        "y_data = [] #list to store y column data from csv file\n",
        "\n",
        "#read data from csv file and store in corresponding lists\n",
        "for ind in df.index: #get index value from data frame\n",
        "    #print data row wise\n",
        "    #print(ind, df[header[0]][ind], df[header[1]][ind]) \n",
        "    #x_data.append(df[header[0]][ind])\n",
        "    x1_data.append(df[header[0]][ind])\n",
        "    x2_data.append(df[header[1]][ind])\n",
        "    y_data.append(df[header[2]][ind])\n",
        "print(\"\\n\")\n",
        "\n",
        "# m = number of sample points available in ground truth data\n",
        "#m = len(x_data) \n",
        "m = len(x1_data) \n",
        "#print(m)"
      ],
      "execution_count": 82,
      "outputs": [
        {
          "output_type": "stream",
          "name": "stdout",
          "text": [
            "\n",
            "\n"
          ]
        }
      ]
    },
    {
      "cell_type": "code",
      "metadata": {
        "colab": {
          "base_uri": "https://localhost:8080/",
          "height": 295
        },
        "id": "9q1b6NSOZmtL",
        "outputId": "9a0f9eb8-b11c-4ab5-e3fb-9d5b2650635f"
      },
      "source": [
        "#(c) data with its decision boundary. \n",
        "\n",
        "#plot best fit line using w_0, w_1, w_2 values computed in part .py file \n",
        "w_0 = 4.550988852951739 #computed using linear regression in .py file\n",
        "w_1 = 0.08444428556927047 #computed using linear regression in .py file \n",
        "w_2 = 0.1228422045263151\n",
        "\n",
        "plt.scatter(x1_data, y_data, color = 'hotpink')\n",
        "plt.scatter(x2_data, y_data, color = '#88c999')\n",
        "\n",
        "#plot best fit line using w_0, w_1, w_2 computed via grad. des. algorithm \n",
        "x1 = np.linspace(min(x1_data),max(x1_data),m)\n",
        "x2 = np.linspace(min(x2_data),max(x2_data),m)\n",
        "#print(x1)\n",
        "#print(x2)\n",
        "\n",
        "y = w_0 + w_1 * x1 + w_2 * x2\n",
        "plt.plot(x1, y, '-r', label='y = w_0 + w_1 * x1 + w_2 * x2')\n",
        "\n",
        "plt.xlabel('x1')\n",
        "plt.ylabel('y')\n",
        "plt.title(\"Best fit line using Logistic Regression for given data set (x1,x2,y)\")\n",
        "plt.legend(loc='upper left')\n",
        "plt.grid()\n",
        "\n",
        "plt.show()"
      ],
      "execution_count": 83,
      "outputs": [
        {
          "output_type": "display_data",
          "data": {
            "image/png": "[encoded data removed]",
            "text/plain": [
              "<Figure size 432x288 with 1 Axes>"
            ]
          },
          "metadata": {
            "needs_background": "light"
          }
        }
      ]
    },
    {
      "cell_type": "code",
      "metadata": {
        "id": "qiEtUjS4egN-"
      },
      "source": [
        "\"\"\"\n",
        "\"\"\"\n",
        "import pandas as pd\n",
        "import numpy as np\n",
        "import matplotlib.pyplot as plt\n",
        "import math \n",
        "\n",
        "#setting values for x and y \n",
        "a = np.arange(-90.0, 90.0, 0.2)\n",
        "b = np.arange(-90.0, 90.0, 0.2)\n",
        "\n",
        "# make matrix from x and y values = meshgrid for 3d plotting\n",
        "W1,W2=np.meshgrid(a,b)"
      ],
      "execution_count": 84,
      "outputs": []
    },
    {
      "cell_type": "code",
      "metadata": {
        "colab": {
          "base_uri": "https://localhost:8080/",
          "height": 146
        },
        "id": "3U9g4cpje7Hx",
        "outputId": "9206b513-9999-4cfe-a425-ce6c96ab2ede"
      },
      "source": [
        "\"\"\"\n",
        "(b) squared-error cost function and contour plot \n",
        "\n",
        "Surface and countor plots for cost function J(w_0, w_1) = (1/2m) sum(1 to m) [ (h-y)^2 ]\n",
        "\n",
        "#define function to get value of cost function given each value of w_0 w_1 w_2\n",
        "#Following code block has errors so it is commented and only logic is shown\n",
        "\n",
        "\"\"\"\n",
        "\n",
        "\"\"\"\n",
        "def get_sigmoid_value(w_1, w_2, x1, x2):\n",
        "\n",
        "    w_0 = 4.550988852951739\n",
        "    #h(w) = 1 / (1 + e^(-w'x))\n",
        "    z = w_0 + (w_1 * x1) + (w_2 * x2)\n",
        "    sigmoid = 1.000 / (1.000 + math.exp(-z))\n",
        "    #print(\"sigmoid value\", sigmoid)\n",
        "    return sigmoid\n",
        "\n",
        "def Compute_J_2(w_1, w_2, i=0):\n",
        "       \n",
        "    sum_0 = 0\n",
        "    w_0 = 4.550988852951739\n",
        "    \n",
        "    for j in range(0,m):\n",
        "        h = get_sigmoid_value(w_1, w_2, x1_data[j], x2_data[j]) \n",
        "        sum_0 = sum_0 + pow((h - y_data[i]),2)                        \n",
        "        \n",
        "    sum_0 = sum_0 / (2*m)  \n",
        "\n",
        "    #return value of w_0, w_1, w_2, J \n",
        "    if i == 1:\n",
        "        return w_0, w_1, w_2, sum_0\n",
        "        \n",
        "    #return value of J only \n",
        "    else:    \n",
        "        return sum_0\n",
        "\n",
        "#create figure and add subplot\n",
        "fig = plt.figure(figsize = (10,10))\n",
        "ax = fig.add_subplot(111, projection='3d')\n",
        "\n",
        "#at grid 1 plot 3d surface using W1,W2,alpha\n",
        "ax.plot_surface(W1, W2, Compute_J_2(W1,W2), alpha = 0.5)\n",
        "\n",
        "#set labels to the subplot of 3d surface\n",
        "ax.set_xlabel('w_1',fontsize = 10)\n",
        "ax.set_ylabel('w_2',fontsize = 10)\n",
        "ax.set_zlabel('J(w_1,w_2)',fontsize = 10)\n",
        "plt.title(\"3D surface for cost function J(w_1, w_2) = (1/2m) sum(1 to m) [ (h-y)^2 ]\")\n",
        "\n",
        "#dispaly subplot in grid\n",
        "plt.show()\n",
        "\n",
        "#create a new figure to display contour\n",
        "fig = plt.figure(figsize = (8,8))\n",
        "\n",
        "#get the countors from 3d surface\n",
        "cp  = plt.contour(W1, W2, Compute_J_2(W1,W2), levels = 10)\n",
        "\n",
        "#set countour propertiess\n",
        "plt.clabel(cp, fontsize=10)\n",
        "plt.title(\"contours for J(w_1, w_2) = (1/2m) sum(1 to m) [ (h-y)^2 ]\")\n",
        "#plt.plot(w_1, w_2, marker='^', color=\"green\")\n",
        "\n",
        "plt.show()\n",
        "\"\"\""
      ],
      "execution_count": 85,
      "outputs": [
        {
          "output_type": "execute_result",
          "data": {
            "application/vnd.google.colaboratory.intrinsic+json": {
              "type": "string"
            },
            "text/plain": [
              "'\\ndef get_sigmoid_value(w_1, w_2, x1, x2):\\n\\n    w_0 = 4.550988852951739\\n    #h(w) = 1 / (1 + e^(-w\\'x))\\n    z = w_0 + (w_1 * x1) + (w_2 * x2)\\n    sigmoid = 1.000 / (1.000 + math.exp(-z))\\n    #print(\"sigmoid value\", sigmoid)\\n    return sigmoid\\n\\ndef Compute_J_2(w_1, w_2, i=0):\\n       \\n    sum_0 = 0\\n    w_0 = 4.550988852951739\\n    \\n    for j in range(0,m):\\n        h = get_sigmoid_value(w_1, w_2, x1_data[j], x2_data[j]) \\n        sum_0 = sum_0 + pow((h - y_data[i]),2)                        \\n        \\n    sum_0 = sum_0 / (2*m)  \\n\\n    #return value of w_0, w_1, w_2, J \\n    if i == 1:\\n        return w_0, w_1, w_2, sum_0\\n        \\n    #return value of J only \\n    else:    \\n        return sum_0\\n\\n#create figure and add subplot\\nfig = plt.figure(figsize = (10,10))\\nax = fig.add_subplot(111, projection=\\'3d\\')\\n\\n#at grid 1 plot 3d surface using W1,W2,alpha\\nax.plot_surface(W1, W2, Compute_J_2(W1,W2), alpha = 0.5)\\n\\n#set labels to the subplot of 3d surface\\nax.set_xlabel(\\'w_1\\',fontsize = 10)\\nax.set_ylabel(\\'w_2\\',fontsize = 10)\\nax.set_zlabel(\\'J(w_1,w_2)\\',fontsize = 10)\\nplt.title(\"3D surface for cost function J(w_1, w_2) = (1/2m) sum(1 to m) [ (h-y)^2 ]\")\\n\\n#dispaly subplot in grid\\nplt.show()\\n\\n#create a new figure to display contour\\nfig = plt.figure(figsize = (8,8))\\n\\n#get the countors from 3d surface\\ncp  = plt.contour(W1, W2, Compute_J_2(W1,W2), levels = 10)\\n\\n#set countour propertiess\\nplt.clabel(cp, fontsize=10)\\nplt.title(\"contours for J(w_1, w_2) = (1/2m) sum(1 to m) [ (h-y)^2 ]\")\\n#plt.plot(w_1, w_2, marker=\\'^\\', color=\"green\")\\n\\nplt.show()\\n'"
            ]
          },
          "metadata": {},
          "execution_count": 85
        }
      ]
    },
    {
      "cell_type": "code",
      "metadata": {
        "colab": {
          "base_uri": "https://localhost:8080/",
          "height": 146
        },
        "id": "YqpSYdn3p93u",
        "outputId": "d5a9c515-de96-497f-d93e-bccfb093fd7b"
      },
      "source": [
        "\"\"\"\n",
        "(a) binary cross-entropy cost function and its contour plot  \n",
        "\n",
        "Surface and countor plots for cross entropy cost function \n",
        "\n",
        "#define function to get value of cost function given each value of w_0 w_1 w_2\n",
        "#Following code block has errors so it is commented and only logic is shown\n",
        "\n",
        "\"\"\"\n",
        "\n",
        "\"\"\"\n",
        "def get_sigmoid_value(w_1, w_2, x1, x2):\n",
        "\n",
        "    w_0 = 4.550988852951739\n",
        "    #h(w) = 1 / (1 + e^(-w'x))\n",
        "    z = w_0 + (w_1 * x1) + (w_2 * x2)\n",
        "    sigmoid = 1.000 / (1.000 + math.exp(-z)) #Line with error\n",
        "    #print(\"sigmoid value\", sigmoid)\n",
        "    return sigmoid\n",
        "\n",
        "def Compute_J_1(w_1, w_2, i=0):\n",
        "       \n",
        "    sum_0 = 0\n",
        "    w_0 = 4.550988852951739\n",
        "    \n",
        "    for j in range(0,m):\n",
        "        r = get_sigmoid_value(w_0, w_1, w_2, x1_data[j], x2_data[j])\n",
        "        s =  math.log(r) \n",
        "        #print(s)\n",
        "        \n",
        "        # in absence of 0.0001, the interpreter throws \n",
        "        # math domain error as it cannot handle log(0)\n",
        "        # hence a small value 0.0001 is added for computation purpose \n",
        "        s_minus_1 = math.log(1.00-r+0.0001)  \n",
        "        \n",
        "        sum_0 = sum_0 + (   (-1 * y_data[j] * s)  -  (   (1 - y_data[j]) * s_minus_1)  )                         \n",
        "        \n",
        "    sum_0 = sum_0 / (2*m)  \n",
        "\n",
        "    #return value of w_0, w_1, w_2, J \n",
        "    if i == 1:\n",
        "        return w_0, w_1, w_2, sum_0\n",
        "        \n",
        "    #return value of J only \n",
        "    else:    \n",
        "        return sum_0\n",
        "\n",
        "#create figure and add subplot\n",
        "fig = plt.figure(figsize = (10,10))\n",
        "ax = fig.add_subplot(111, projection='3d')\n",
        "\n",
        "#at grid 1 plot 3d surface using W1,W2,alpha\n",
        "ax.plot_surface(W1, W2, Compute_J_1(W1,W2), alpha = 0.5)\n",
        "\n",
        "#set labels to the subplot of 3d surface\n",
        "ax.set_xlabel('w_1',fontsize = 10)\n",
        "ax.set_ylabel('w_2',fontsize = 10)\n",
        "ax.set_zlabel('J(w_1,w_2)',fontsize = 10)\n",
        "plt.title(\"3D surface for cross entropy cost function\")\n",
        "\n",
        "#dispaly subplot in grid\n",
        "plt.show()\n",
        "\n",
        "#create a new figure to display contour\n",
        "fig = plt.figure(figsize = (8,8))\n",
        "\n",
        "#get the countors from 3d surface\n",
        "cp  = plt.contour(W1, W2, Compute_J_1(W1,W2), levels = 10)\n",
        "\n",
        "#set countour propertiess\n",
        "plt.clabel(cp, fontsize=10)\n",
        "plt.title(\"contours for cross entropy cost function\")\n",
        "#plt.plot(w_1, w_2, marker='^', color=\"green\")\n",
        "\n",
        "plt.show()\n",
        "\"\"\""
      ],
      "execution_count": 86,
      "outputs": [
        {
          "output_type": "execute_result",
          "data": {
            "application/vnd.google.colaboratory.intrinsic+json": {
              "type": "string"
            },
            "text/plain": [
              "'\\ndef get_sigmoid_value(w_1, w_2, x1, x2):\\n\\n    w_0 = 4.550988852951739\\n    #h(w) = 1 / (1 + e^(-w\\'x))\\n    z = w_0 + (w_1 * x1) + (w_2 * x2)\\n    sigmoid = 1.000 / (1.000 + math.exp(-z)) #Line with error\\n    #print(\"sigmoid value\", sigmoid)\\n    return sigmoid\\n\\ndef Compute_J_1(w_1, w_2, i=0):\\n       \\n    sum_0 = 0\\n    w_0 = 4.550988852951739\\n    \\n    for j in range(0,m):\\n        r = get_sigmoid_value(w_0, w_1, w_2, x1_data[j], x2_data[j])\\n        s =  math.log(r) \\n        #print(s)\\n        \\n        # in absence of 0.0001, the interpreter throws \\n        # math domain error as it cannot handle log(0)\\n        # hence a small value 0.0001 is added for computation purpose \\n        s_minus_1 = math.log(1.00-r+0.0001)  \\n        \\n        sum_0 = sum_0 + (   (-1 * y_data[j] * s)  -  (   (1 - y_data[j]) * s_minus_1)  )                         \\n        \\n    sum_0 = sum_0 / (2*m)  \\n\\n    #return value of w_0, w_1, w_2, J \\n    if i == 1:\\n        return w_0, w_1, w_2, sum_0\\n        \\n    #return value of J only \\n    else:    \\n        return sum_0\\n\\n#create figure and add subplot\\nfig = plt.figure(figsize = (10,10))\\nax = fig.add_subplot(111, projection=\\'3d\\')\\n\\n#at grid 1 plot 3d surface using W1,W2,alpha\\nax.plot_surface(W1, W2, Compute_J_1(W1,W2), alpha = 0.5)\\n\\n#set labels to the subplot of 3d surface\\nax.set_xlabel(\\'w_1\\',fontsize = 10)\\nax.set_ylabel(\\'w_2\\',fontsize = 10)\\nax.set_zlabel(\\'J(w_1,w_2)\\',fontsize = 10)\\nplt.title(\"3D surface for cross entropy cost function\")\\n\\n#dispaly subplot in grid\\nplt.show()\\n\\n#create a new figure to display contour\\nfig = plt.figure(figsize = (8,8))\\n\\n#get the countors from 3d surface\\ncp  = plt.contour(W1, W2, Compute_J_1(W1,W2), levels = 10)\\n\\n#set countour propertiess\\nplt.clabel(cp, fontsize=10)\\nplt.title(\"contours for cross entropy cost function\")\\n#plt.plot(w_1, w_2, marker=\\'^\\', color=\"green\")\\n\\nplt.show()\\n'"
            ]
          },
          "metadata": {},
          "execution_count": 86
        }
      ]
    }
  ]
}